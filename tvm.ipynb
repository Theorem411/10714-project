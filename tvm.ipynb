{
  "nbformat": 4,
  "nbformat_minor": 0,
  "metadata": {
    "colab": {
      "provenance": []
    },
    "kernelspec": {
      "name": "python3",
      "display_name": "Python 3"
    },
    "language_info": {
      "name": "python"
    }
  },
  "cells": [
    {
      "cell_type": "code",
      "execution_count": 1,
      "metadata": {
        "colab": {
          "base_uri": "https://localhost:8080/"
        },
        "id": "6jrNAmEz8x3Q",
        "outputId": "fbef173c-0685-4c09-d282-3c5f78877579"
      },
      "outputs": [
        {
          "output_type": "stream",
          "name": "stdout",
          "text": [
            "Collecting apache-tvm\n",
            "  Downloading apache_tvm-0.11.1-cp310-cp310-manylinux_2_17_x86_64.manylinux2014_x86_64.whl.metadata (8.3 kB)\n",
            "Requirement already satisfied: attrs in /usr/local/lib/python3.10/dist-packages (from apache-tvm) (24.2.0)\n",
            "Requirement already satisfied: cloudpickle in /usr/local/lib/python3.10/dist-packages (from apache-tvm) (3.1.0)\n",
            "Requirement already satisfied: decorator in /usr/local/lib/python3.10/dist-packages (from apache-tvm) (4.4.2)\n",
            "Requirement already satisfied: numpy in /usr/local/lib/python3.10/dist-packages (from apache-tvm) (1.26.4)\n",
            "Requirement already satisfied: psutil in /usr/local/lib/python3.10/dist-packages (from apache-tvm) (5.9.5)\n",
            "Requirement already satisfied: scipy in /usr/local/lib/python3.10/dist-packages (from apache-tvm) (1.13.1)\n",
            "Collecting synr==0.6.0 (from apache-tvm)\n",
            "  Downloading synr-0.6.0-py3-none-any.whl.metadata (1.2 kB)\n",
            "Requirement already satisfied: tornado in /usr/local/lib/python3.10/dist-packages (from apache-tvm) (6.3.3)\n",
            "Requirement already satisfied: typing-extensions in /usr/local/lib/python3.10/dist-packages (from apache-tvm) (4.12.2)\n",
            "Downloading apache_tvm-0.11.1-cp310-cp310-manylinux_2_17_x86_64.manylinux2014_x86_64.whl (47.2 MB)\n",
            "\u001b[2K   \u001b[90m━━━━━━━━━━━━━━━━━━━━━━━━━━━━━━━━━━━━━━━━\u001b[0m \u001b[32m47.2/47.2 MB\u001b[0m \u001b[31m3.7 MB/s\u001b[0m eta \u001b[36m0:00:00\u001b[0m\n",
            "\u001b[?25hDownloading synr-0.6.0-py3-none-any.whl (18 kB)\n",
            "Installing collected packages: synr, apache-tvm\n",
            "Successfully installed apache-tvm-0.11.1 synr-0.6.0\n"
          ]
        }
      ],
      "source": [
        "# Install tvm\n",
        "!pip install apache-tvm\n",
        "!pip install -I mlc_ai_nightly -f https://mlc.ai/wheels\\\n",
        "!python -c \"from tvm import relax\""
      ]
    },
    {
      "cell_type": "code",
      "source": [
        "# clone the repo\n",
        "!git clone https://github.com/Theorem411/10714-project.git"
      ],
      "metadata": {
        "colab": {
          "base_uri": "https://localhost:8080/"
        },
        "id": "zBcTtQEzUy0n",
        "outputId": "b65b1500-42b7-404e-e423-2befbe903361"
      },
      "execution_count": null,
      "outputs": [
        {
          "output_type": "stream",
          "name": "stdout",
          "text": [
            "Cloning into '10714-project'...\n",
            "remote: Enumerating objects: 217, done.\u001b[K\n",
            "remote: Counting objects: 100% (217/217), done.\u001b[K\n",
            "remote: Compressing objects: 100% (172/172), done.\u001b[K\n",
            "remote: Total 217 (delta 40), reused 210 (delta 33), pack-reused 0 (from 0)\u001b[K\n",
            "Receiving objects: 100% (217/217), 2.87 MiB | 10.08 MiB/s, done.\n",
            "Resolving deltas: 100% (40/40), done.\n"
          ]
        }
      ]
    },
    {
      "cell_type": "code",
      "source": [
        "%cd /content/10714-project/hw4"
      ],
      "metadata": {
        "id": "1qlPAmaxFCwN",
        "colab": {
          "base_uri": "https://localhost:8080/"
        },
        "outputId": "f3c7d0be-f7e8-43ac-dac2-522f1fa6cbfa"
      },
      "execution_count": null,
      "outputs": [
        {
          "output_type": "stream",
          "name": "stdout",
          "text": [
            "/content/10714-project/hw4\n"
          ]
        }
      ]
    },
    {
      "cell_type": "code",
      "source": [
        "!python python/frontend/test.py"
      ],
      "metadata": {
        "colab": {
          "base_uri": "https://localhost:8080/"
        },
        "id": "Z-G6Rw5SLZdN",
        "outputId": "a6bbd161-a24f-45f8-b0cc-098001f3c082"
      },
      "execution_count": null,
      "outputs": [
        {
          "output_type": "stream",
          "name": "stdout",
          "text": [
            "Using needle backend\n",
            "input: (1, 5)\n",
            "leaf or op : True is placeholder?: True \n",
            " [[1. 2. 3. 4. 5.]] \n",
            "------------------------------\n",
            "\n",
            "leaf or op : True is placeholder?: False \n",
            " [[-0.3791533   0.9522269   0.6704396   0.06304777 -0.2997192 ]\n",
            " [ 0.25606608  0.60430694  0.8290545  -0.5230752  -0.7404354 ]\n",
            " [-0.2197926   0.06712174  0.28799736 -0.9290254   0.09168661]\n",
            " [ 0.32907152  0.15208793 -0.75926507  0.71457124  0.84736645]\n",
            " [-1.0212603  -0.19166267 -0.7265128  -1.0386288  -0.17839926]] \n",
            "------------------------------\n",
            "\n",
            "leaf or op : <needle.ops.ops_mathematic.MatMul object at 0x13fd6baa4d60> is placeholder?: False \n",
            " [[-4.3164144   2.0122442  -3.4770837  -6.1050377   0.99193925]] \n",
            "------------------------------\n",
            "\n",
            "leaf or op : True is placeholder?: False \n",
            " [[-0.8719543  -0.68119097 -0.7273785  -0.7774124  -0.63342166]] \n",
            "------------------------------\n",
            "\n",
            "leaf or op : <needle.ops.ops_mathematic.Reshape object at 0x13fd6baa4dc0> is placeholder?: False \n",
            " [[-0.8719543  -0.68119097 -0.7273785  -0.7774124  -0.63342166]] \n",
            "------------------------------\n",
            "\n",
            "leaf or op : <needle.ops.ops_mathematic.BroadcastTo object at 0x13fd6baa4f70> is placeholder?: False \n",
            " [[-0.8719543  -0.68119097 -0.7273785  -0.7774124  -0.63342166]] \n",
            "------------------------------\n",
            "\n",
            "leaf or op : <needle.ops.ops_mathematic.EWiseAdd object at 0x13fd6baa5000> is placeholder?: False \n",
            " [[-5.188369   1.3310533 -4.204462  -6.88245    0.3585176]] \n",
            "------------------------------\n",
            "\n",
            "leaf or op : <needle.ops.ops_mathematic.ReLU object at 0x13fd6baa5180> is placeholder?: False \n",
            " [[0.        1.3310533 0.        0.        0.3585176]] \n",
            "------------------------------\n",
            "\n",
            "leaf or op : True is placeholder?: False \n",
            " [[ 0.02495635 -0.9209182   0.619468    1.0320671   0.4379797 ]\n",
            " [-0.2544722   0.8500204   0.97875     0.1775477  -0.14804327]\n",
            " [-0.223284   -0.9538832   0.2653755  -0.08099055  0.656819  ]\n",
            " [ 0.25873637  0.5716469   1.0684867   0.5143789  -0.22873741]\n",
            " [-0.8007052   0.5403161  -0.7112602   1.0240674   0.79833686]] \n",
            "------------------------------\n",
            "\n",
            "leaf or op : <needle.ops.ops_mathematic.MatMul object at 0x13fd6baa5240> is placeholder?: False \n",
            " [[-0.62578297  1.3251352   1.0477691   0.60347164  0.08916433]] \n",
            "------------------------------\n",
            "\n",
            "leaf or op : True is placeholder?: False \n",
            " [[ 0.05181849  0.74251866 -0.30091506 -0.48986834  1.0302064 ]] \n",
            "------------------------------\n",
            "\n",
            "leaf or op : <needle.ops.ops_mathematic.Reshape object at 0x13fd6baa52a0> is placeholder?: False \n",
            " [[ 0.05181849  0.74251866 -0.30091506 -0.48986834  1.0302064 ]] \n",
            "------------------------------\n",
            "\n",
            "leaf or op : <needle.ops.ops_mathematic.BroadcastTo object at 0x13fd6baa5420> is placeholder?: False \n",
            " [[ 0.05181849  0.74251866 -0.30091506 -0.48986834  1.0302064 ]] \n",
            "------------------------------\n",
            "\n",
            "leaf or op : <needle.ops.ops_mathematic.EWiseAdd object at 0x13fd6baa54b0> is placeholder?: False \n",
            " [[-0.5739645   2.067654    0.746854    0.11360329  1.1193708 ]] \n",
            "------------------------------\n",
            "\n",
            "leaf or op : <needle.ops.ops_mathematic.ReLU object at 0x13fd6baa5630> is placeholder?: False \n",
            " [[0.         2.067654   0.746854   0.11360329 1.1193708 ]] \n",
            "------------------------------\n",
            "\n",
            "op: <needle.ops.ops_mathematic.MatMul object at 0x13fd6baa4d60>\n",
            "\n",
            "op: <needle.ops.ops_mathematic.Reshape object at 0x13fd6baa4dc0>\n",
            "\n",
            "op: <needle.ops.ops_mathematic.BroadcastTo object at 0x13fd6baa4f70>\n",
            "\n",
            "op: <needle.ops.ops_mathematic.EWiseAdd object at 0x13fd6baa5000>\n",
            "\n",
            "op: <needle.ops.ops_mathematic.ReLU object at 0x13fd6baa5180>\n",
            "\n",
            "op: <needle.ops.ops_mathematic.MatMul object at 0x13fd6baa5240>\n",
            "\n",
            "op: <needle.ops.ops_mathematic.Reshape object at 0x13fd6baa52a0>\n",
            "\n",
            "op: <needle.ops.ops_mathematic.BroadcastTo object at 0x13fd6baa5420>\n",
            "\n",
            "op: <needle.ops.ops_mathematic.EWiseAdd object at 0x13fd6baa54b0>\n",
            "\n",
            "op: <needle.ops.ops_mathematic.ReLU object at 0x13fd6baa5630>\n",
            "\n",
            "\u001b[90;03m# from tvm.script import ir as I\u001b[39;00m\n",
            "\u001b[90;03m# from tvm.script import tir as T\u001b[39;00m\n",
            "\u001b[90;03m# from tvm.script import relax as R\u001b[39;00m\n",
            "\n",
            "\u001b[95;03m@I\u001b[39;00m\u001b[35;01m.\u001b[39;00mir_module\n",
            "\u001b[32;01mclass\u001b[39;00m \u001b[34;01mModule\u001b[39;00m:\n",
            "    \u001b[95;03m@T\u001b[39;00m\u001b[35;01m.\u001b[39;00mprim_func(private\u001b[35;01m=\u001b[39;00m\u001b[32;01mTrue\u001b[39;00m)\n",
            "    \u001b[32;01mdef\u001b[39;00m \u001b[34;01mte_broadcast_to\u001b[39;00m(lv1: T\u001b[35;01m.\u001b[39;00mBuffer((T\u001b[35;01m.\u001b[39;00mint64(\u001b[92m1\u001b[39m), T\u001b[35;01m.\u001b[39;00mint64(\u001b[92m5\u001b[39m)), \u001b[33m\"\u001b[39m\u001b[33mfloat32\u001b[39m\u001b[33m\"\u001b[39m), broadcast_to: T\u001b[35;01m.\u001b[39;00mBuffer((T\u001b[35;01m.\u001b[39;00mint64(\u001b[92m1\u001b[39m), T\u001b[35;01m.\u001b[39;00mint64(\u001b[92m5\u001b[39m)), \u001b[33m\"\u001b[39m\u001b[33mfloat32\u001b[39m\u001b[33m\"\u001b[39m)):\n",
            "        T\u001b[35;01m.\u001b[39;00mfunc_attr({\u001b[33m\"\u001b[39m\u001b[33mtir.noalias\u001b[39m\u001b[33m\"\u001b[39m: T\u001b[35;01m.\u001b[39;00mbool(\u001b[32;01mTrue\u001b[39;00m)})\n",
            "        \u001b[90;03m# with T.block(\"root\"):\u001b[39;00m\n",
            "        \u001b[32;01mfor\u001b[39;00m i0, i1 \u001b[32;01min\u001b[39;00m T\u001b[35;01m.\u001b[39;00mgrid(T\u001b[35;01m.\u001b[39;00mint64(\u001b[92m1\u001b[39m), T\u001b[35;01m.\u001b[39;00mint64(\u001b[92m5\u001b[39m)):\n",
            "            \u001b[32;01mwith\u001b[39;00m T\u001b[35;01m.\u001b[39;00mblock(\u001b[33m\"\u001b[39m\u001b[33mbroadcast_to\u001b[39m\u001b[33m\"\u001b[39m):\n",
            "                v_i0, v_i1 \u001b[35;01m=\u001b[39;00m T\u001b[35;01m.\u001b[39;00maxis\u001b[35;01m.\u001b[39;00mremap(\u001b[33m\"\u001b[39m\u001b[33mSS\u001b[39m\u001b[33m\"\u001b[39m, [i0, i1])\n",
            "                T\u001b[35;01m.\u001b[39;00mreads(lv1[v_i0, v_i1])\n",
            "                T\u001b[35;01m.\u001b[39;00mwrites(broadcast_to[v_i0, v_i1])\n",
            "                broadcast_to[v_i0, v_i1] \u001b[35;01m=\u001b[39;00m lv1[v_i0, v_i1]\n",
            "\n",
            "    \u001b[95;03m@T\u001b[39;00m\u001b[35;01m.\u001b[39;00mprim_func(private\u001b[35;01m=\u001b[39;00m\u001b[32;01mTrue\u001b[39;00m)\n",
            "    \u001b[32;01mdef\u001b[39;00m \u001b[34;01mte_ewise_add\u001b[39;00m(lv: T\u001b[35;01m.\u001b[39;00mBuffer((T\u001b[35;01m.\u001b[39;00mint64(\u001b[92m1\u001b[39m), T\u001b[35;01m.\u001b[39;00mint64(\u001b[92m5\u001b[39m)), \u001b[33m\"\u001b[39m\u001b[33mfloat32\u001b[39m\u001b[33m\"\u001b[39m), lv2: T\u001b[35;01m.\u001b[39;00mBuffer((T\u001b[35;01m.\u001b[39;00mint64(\u001b[92m1\u001b[39m), T\u001b[35;01m.\u001b[39;00mint64(\u001b[92m5\u001b[39m)), \u001b[33m\"\u001b[39m\u001b[33mfloat32\u001b[39m\u001b[33m\"\u001b[39m), ewise_add: T\u001b[35;01m.\u001b[39;00mBuffer((T\u001b[35;01m.\u001b[39;00mint64(\u001b[92m1\u001b[39m), T\u001b[35;01m.\u001b[39;00mint64(\u001b[92m5\u001b[39m)), \u001b[33m\"\u001b[39m\u001b[33mfloat32\u001b[39m\u001b[33m\"\u001b[39m)):\n",
            "        T\u001b[35;01m.\u001b[39;00mfunc_attr({\u001b[33m\"\u001b[39m\u001b[33mtir.noalias\u001b[39m\u001b[33m\"\u001b[39m: T\u001b[35;01m.\u001b[39;00mbool(\u001b[32;01mTrue\u001b[39;00m)})\n",
            "        \u001b[90;03m# with T.block(\"root\"):\u001b[39;00m\n",
            "        \u001b[32;01mfor\u001b[39;00m i0, i1 \u001b[32;01min\u001b[39;00m T\u001b[35;01m.\u001b[39;00mgrid(T\u001b[35;01m.\u001b[39;00mint64(\u001b[92m1\u001b[39m), T\u001b[35;01m.\u001b[39;00mint64(\u001b[92m5\u001b[39m)):\n",
            "            \u001b[32;01mwith\u001b[39;00m T\u001b[35;01m.\u001b[39;00mblock(\u001b[33m\"\u001b[39m\u001b[33mewise_add\u001b[39m\u001b[33m\"\u001b[39m):\n",
            "                v_i0, v_i1 \u001b[35;01m=\u001b[39;00m T\u001b[35;01m.\u001b[39;00maxis\u001b[35;01m.\u001b[39;00mremap(\u001b[33m\"\u001b[39m\u001b[33mSS\u001b[39m\u001b[33m\"\u001b[39m, [i0, i1])\n",
            "                T\u001b[35;01m.\u001b[39;00mreads(lv[v_i0, v_i1], lv2[v_i0, v_i1])\n",
            "                T\u001b[35;01m.\u001b[39;00mwrites(ewise_add[v_i0, v_i1])\n",
            "                ewise_add[v_i0, v_i1] \u001b[35;01m=\u001b[39;00m lv[v_i0, v_i1] \u001b[35;01m+\u001b[39;00m lv2[v_i0, v_i1]\n",
            "\n",
            "    \u001b[95;03m@T\u001b[39;00m\u001b[35;01m.\u001b[39;00mprim_func(private\u001b[35;01m=\u001b[39;00m\u001b[32;01mTrue\u001b[39;00m)\n",
            "    \u001b[32;01mdef\u001b[39;00m \u001b[34;01mte_matmul\u001b[39;00m(X: T\u001b[35;01m.\u001b[39;00mBuffer((T\u001b[35;01m.\u001b[39;00mint64(\u001b[92m1\u001b[39m), T\u001b[35;01m.\u001b[39;00mint64(\u001b[92m5\u001b[39m)), \u001b[33m\"\u001b[39m\u001b[33mfloat32\u001b[39m\u001b[33m\"\u001b[39m), B: T\u001b[35;01m.\u001b[39;00mBuffer((T\u001b[35;01m.\u001b[39;00mint64(\u001b[92m5\u001b[39m), T\u001b[35;01m.\u001b[39;00mint64(\u001b[92m5\u001b[39m)), \u001b[33m\"\u001b[39m\u001b[33mfloat32\u001b[39m\u001b[33m\"\u001b[39m), matmul: T\u001b[35;01m.\u001b[39;00mBuffer((T\u001b[35;01m.\u001b[39;00mint64(\u001b[92m1\u001b[39m), T\u001b[35;01m.\u001b[39;00mint64(\u001b[92m5\u001b[39m)), \u001b[33m\"\u001b[39m\u001b[33mfloat32\u001b[39m\u001b[33m\"\u001b[39m)):\n",
            "        T\u001b[35;01m.\u001b[39;00mfunc_attr({\u001b[33m\"\u001b[39m\u001b[33mtir.noalias\u001b[39m\u001b[33m\"\u001b[39m: T\u001b[35;01m.\u001b[39;00mbool(\u001b[32;01mTrue\u001b[39;00m)})\n",
            "        \u001b[90;03m# with T.block(\"root\"):\u001b[39;00m\n",
            "        \u001b[32;01mfor\u001b[39;00m i, j, k \u001b[32;01min\u001b[39;00m T\u001b[35;01m.\u001b[39;00mgrid(T\u001b[35;01m.\u001b[39;00mint64(\u001b[92m1\u001b[39m), T\u001b[35;01m.\u001b[39;00mint64(\u001b[92m5\u001b[39m), T\u001b[35;01m.\u001b[39;00mint64(\u001b[92m5\u001b[39m)):\n",
            "            \u001b[32;01mwith\u001b[39;00m T\u001b[35;01m.\u001b[39;00mblock(\u001b[33m\"\u001b[39m\u001b[33mmatmul\u001b[39m\u001b[33m\"\u001b[39m):\n",
            "                v_i, v_j, v_k \u001b[35;01m=\u001b[39;00m T\u001b[35;01m.\u001b[39;00maxis\u001b[35;01m.\u001b[39;00mremap(\u001b[33m\"\u001b[39m\u001b[33mSSR\u001b[39m\u001b[33m\"\u001b[39m, [i, j, k])\n",
            "                T\u001b[35;01m.\u001b[39;00mreads(X[v_i, v_k], B[v_k, v_j])\n",
            "                T\u001b[35;01m.\u001b[39;00mwrites(matmul[v_i, v_j])\n",
            "                \u001b[32;01mwith\u001b[39;00m T\u001b[35;01m.\u001b[39;00minit():\n",
            "                    matmul[v_i, v_j] \u001b[35;01m=\u001b[39;00m T\u001b[35;01m.\u001b[39;00mfloat32(\u001b[92m0.0\u001b[39m)\n",
            "                matmul[v_i, v_j] \u001b[35;01m=\u001b[39;00m matmul[v_i, v_j] \u001b[35;01m+\u001b[39;00m X[v_i, v_k] \u001b[35;01m*\u001b[39;00m B[v_k, v_j]\n",
            "\n",
            "    \u001b[95;03m@T\u001b[39;00m\u001b[35;01m.\u001b[39;00mprim_func(private\u001b[35;01m=\u001b[39;00m\u001b[32;01mTrue\u001b[39;00m)\n",
            "    \u001b[32;01mdef\u001b[39;00m \u001b[34;01mte_relu\u001b[39;00m(lv3: T\u001b[35;01m.\u001b[39;00mBuffer((T\u001b[35;01m.\u001b[39;00mint64(\u001b[92m1\u001b[39m), T\u001b[35;01m.\u001b[39;00mint64(\u001b[92m5\u001b[39m)), \u001b[33m\"\u001b[39m\u001b[33mfloat32\u001b[39m\u001b[33m\"\u001b[39m), relu: T\u001b[35;01m.\u001b[39;00mBuffer((T\u001b[35;01m.\u001b[39;00mint64(\u001b[92m1\u001b[39m), T\u001b[35;01m.\u001b[39;00mint64(\u001b[92m5\u001b[39m)), \u001b[33m\"\u001b[39m\u001b[33mfloat32\u001b[39m\u001b[33m\"\u001b[39m)):\n",
            "        T\u001b[35;01m.\u001b[39;00mfunc_attr({\u001b[33m\"\u001b[39m\u001b[33mtir.noalias\u001b[39m\u001b[33m\"\u001b[39m: T\u001b[35;01m.\u001b[39;00mbool(\u001b[32;01mTrue\u001b[39;00m)})\n",
            "        \u001b[90;03m# with T.block(\"root\"):\u001b[39;00m\n",
            "        \u001b[32;01mfor\u001b[39;00m i0, i1 \u001b[32;01min\u001b[39;00m T\u001b[35;01m.\u001b[39;00mgrid(T\u001b[35;01m.\u001b[39;00mint64(\u001b[92m1\u001b[39m), T\u001b[35;01m.\u001b[39;00mint64(\u001b[92m5\u001b[39m)):\n",
            "            \u001b[32;01mwith\u001b[39;00m T\u001b[35;01m.\u001b[39;00mblock(\u001b[33m\"\u001b[39m\u001b[33mrelu\u001b[39m\u001b[33m\"\u001b[39m):\n",
            "                v_i0, v_i1 \u001b[35;01m=\u001b[39;00m T\u001b[35;01m.\u001b[39;00maxis\u001b[35;01m.\u001b[39;00mremap(\u001b[33m\"\u001b[39m\u001b[33mSS\u001b[39m\u001b[33m\"\u001b[39m, [i0, i1])\n",
            "                T\u001b[35;01m.\u001b[39;00mreads(lv3[v_i0, v_i1])\n",
            "                T\u001b[35;01m.\u001b[39;00mwrites(relu[v_i0, v_i1])\n",
            "                relu[v_i0, v_i1] \u001b[35;01m=\u001b[39;00m T\u001b[35;01m.\u001b[39;00mmax(lv3[v_i0, v_i1], T\u001b[35;01m.\u001b[39;00mfloat32(\u001b[92m0.0\u001b[39m))\n",
            "\n",
            "    \u001b[95;03m@T\u001b[39;00m\u001b[35;01m.\u001b[39;00mprim_func(private\u001b[35;01m=\u001b[39;00m\u001b[32;01mTrue\u001b[39;00m)\n",
            "    \u001b[32;01mdef\u001b[39;00m \u001b[34;01mte_reshape\u001b[39;00m(A: T\u001b[35;01m.\u001b[39;00mBuffer((T\u001b[35;01m.\u001b[39;00mint64(\u001b[92m1\u001b[39m), T\u001b[35;01m.\u001b[39;00mint64(\u001b[92m5\u001b[39m)), \u001b[33m\"\u001b[39m\u001b[33mfloat32\u001b[39m\u001b[33m\"\u001b[39m), reshape: T\u001b[35;01m.\u001b[39;00mBuffer((T\u001b[35;01m.\u001b[39;00mint64(\u001b[92m1\u001b[39m), T\u001b[35;01m.\u001b[39;00mint64(\u001b[92m5\u001b[39m)), \u001b[33m\"\u001b[39m\u001b[33mfloat32\u001b[39m\u001b[33m\"\u001b[39m)):\n",
            "        T\u001b[35;01m.\u001b[39;00mfunc_attr({\u001b[33m\"\u001b[39m\u001b[33mtir.noalias\u001b[39m\u001b[33m\"\u001b[39m: T\u001b[35;01m.\u001b[39;00mbool(\u001b[32;01mTrue\u001b[39;00m)})\n",
            "        \u001b[90;03m# with T.block(\"root\"):\u001b[39;00m\n",
            "        \u001b[32;01mfor\u001b[39;00m i0, i1 \u001b[32;01min\u001b[39;00m T\u001b[35;01m.\u001b[39;00mgrid(T\u001b[35;01m.\u001b[39;00mint64(\u001b[92m1\u001b[39m), T\u001b[35;01m.\u001b[39;00mint64(\u001b[92m5\u001b[39m)):\n",
            "            \u001b[32;01mwith\u001b[39;00m T\u001b[35;01m.\u001b[39;00mblock(\u001b[33m\"\u001b[39m\u001b[33mreshape\u001b[39m\u001b[33m\"\u001b[39m):\n",
            "                v_i0, v_i1 \u001b[35;01m=\u001b[39;00m T\u001b[35;01m.\u001b[39;00maxis\u001b[35;01m.\u001b[39;00mremap(\u001b[33m\"\u001b[39m\u001b[33mSS\u001b[39m\u001b[33m\"\u001b[39m, [i0, i1])\n",
            "                T\u001b[35;01m.\u001b[39;00mreads(A[T\u001b[35;01m.\u001b[39;00mint64(\u001b[92m0\u001b[39m), v_i1 \u001b[35;01m%\u001b[39;00m T\u001b[35;01m.\u001b[39;00mint64(\u001b[92m5\u001b[39m)])\n",
            "                T\u001b[35;01m.\u001b[39;00mwrites(reshape[v_i0, v_i1])\n",
            "                reshape[v_i0, v_i1] \u001b[35;01m=\u001b[39;00m A[T\u001b[35;01m.\u001b[39;00mint64(\u001b[92m0\u001b[39m), v_i1 \u001b[35;01m%\u001b[39;00m T\u001b[35;01m.\u001b[39;00mint64(\u001b[92m5\u001b[39m)]\n",
            "\n",
            "    \u001b[95;03m@R\u001b[39;00m\u001b[35;01m.\u001b[39;00mfunction\n",
            "    \u001b[32;01mdef\u001b[39;00m \u001b[34;01mmain\u001b[39;00m(X: R\u001b[35;01m.\u001b[39;00mTensor((\u001b[92m1\u001b[39m, \u001b[92m5\u001b[39m), dtype\u001b[35;01m=\u001b[39;00m\u001b[33m\"\u001b[39m\u001b[33mfloat32\u001b[39m\u001b[33m\"\u001b[39m)) \u001b[35;01m-\u001b[39;00m\u001b[35;01m>\u001b[39;00m R\u001b[35;01m.\u001b[39;00mTensor((\u001b[92m1\u001b[39m, \u001b[92m5\u001b[39m), dtype\u001b[35;01m=\u001b[39;00m\u001b[33m\"\u001b[39m\u001b[33mfloat32\u001b[39m\u001b[33m\"\u001b[39m):\n",
            "        cls \u001b[35;01m=\u001b[39;00m Module\n",
            "        \u001b[32;01mwith\u001b[39;00m R\u001b[35;01m.\u001b[39;00mdataflow():\n",
            "            lv \u001b[35;01m=\u001b[39;00m R\u001b[35;01m.\u001b[39;00mcall_tir(cls\u001b[35;01m.\u001b[39;00mte_matmul, (X, metadata[\u001b[33m\"\u001b[39m\u001b[33mrelax.expr.Constant\u001b[39m\u001b[33m\"\u001b[39m][\u001b[92m0\u001b[39m]), out_sinfo\u001b[35;01m=\u001b[39;00mR\u001b[35;01m.\u001b[39;00mTensor((\u001b[92m1\u001b[39m, \u001b[92m5\u001b[39m), dtype\u001b[35;01m=\u001b[39;00m\u001b[33m\"\u001b[39m\u001b[33mfloat32\u001b[39m\u001b[33m\"\u001b[39m))\n",
            "            lv1 \u001b[35;01m=\u001b[39;00m R\u001b[35;01m.\u001b[39;00mcall_tir(cls\u001b[35;01m.\u001b[39;00mte_reshape, (metadata[\u001b[33m\"\u001b[39m\u001b[33mrelax.expr.Constant\u001b[39m\u001b[33m\"\u001b[39m][\u001b[92m1\u001b[39m],), out_sinfo\u001b[35;01m=\u001b[39;00mR\u001b[35;01m.\u001b[39;00mTensor((\u001b[92m1\u001b[39m, \u001b[92m5\u001b[39m), dtype\u001b[35;01m=\u001b[39;00m\u001b[33m\"\u001b[39m\u001b[33mfloat32\u001b[39m\u001b[33m\"\u001b[39m))\n",
            "            lv2 \u001b[35;01m=\u001b[39;00m R\u001b[35;01m.\u001b[39;00mcall_tir(cls\u001b[35;01m.\u001b[39;00mte_broadcast_to, (lv1,), out_sinfo\u001b[35;01m=\u001b[39;00mR\u001b[35;01m.\u001b[39;00mTensor((\u001b[92m1\u001b[39m, \u001b[92m5\u001b[39m), dtype\u001b[35;01m=\u001b[39;00m\u001b[33m\"\u001b[39m\u001b[33mfloat32\u001b[39m\u001b[33m\"\u001b[39m))\n",
            "            lv3 \u001b[35;01m=\u001b[39;00m R\u001b[35;01m.\u001b[39;00mcall_tir(cls\u001b[35;01m.\u001b[39;00mte_ewise_add, (lv, lv2), out_sinfo\u001b[35;01m=\u001b[39;00mR\u001b[35;01m.\u001b[39;00mTensor((\u001b[92m1\u001b[39m, \u001b[92m5\u001b[39m), dtype\u001b[35;01m=\u001b[39;00m\u001b[33m\"\u001b[39m\u001b[33mfloat32\u001b[39m\u001b[33m\"\u001b[39m))\n",
            "            lv4 \u001b[35;01m=\u001b[39;00m R\u001b[35;01m.\u001b[39;00mcall_tir(cls\u001b[35;01m.\u001b[39;00mte_relu, (lv3,), out_sinfo\u001b[35;01m=\u001b[39;00mR\u001b[35;01m.\u001b[39;00mTensor((\u001b[92m1\u001b[39m, \u001b[92m5\u001b[39m), dtype\u001b[35;01m=\u001b[39;00m\u001b[33m\"\u001b[39m\u001b[33mfloat32\u001b[39m\u001b[33m\"\u001b[39m))\n",
            "            lv5 \u001b[35;01m=\u001b[39;00m R\u001b[35;01m.\u001b[39;00mcall_tir(cls\u001b[35;01m.\u001b[39;00mte_matmul, (lv4, metadata[\u001b[33m\"\u001b[39m\u001b[33mrelax.expr.Constant\u001b[39m\u001b[33m\"\u001b[39m][\u001b[92m2\u001b[39m]), out_sinfo\u001b[35;01m=\u001b[39;00mR\u001b[35;01m.\u001b[39;00mTensor((\u001b[92m1\u001b[39m, \u001b[92m5\u001b[39m), dtype\u001b[35;01m=\u001b[39;00m\u001b[33m\"\u001b[39m\u001b[33mfloat32\u001b[39m\u001b[33m\"\u001b[39m))\n",
            "            lv6 \u001b[35;01m=\u001b[39;00m R\u001b[35;01m.\u001b[39;00mcall_tir(cls\u001b[35;01m.\u001b[39;00mte_reshape, (metadata[\u001b[33m\"\u001b[39m\u001b[33mrelax.expr.Constant\u001b[39m\u001b[33m\"\u001b[39m][\u001b[92m3\u001b[39m],), out_sinfo\u001b[35;01m=\u001b[39;00mR\u001b[35;01m.\u001b[39;00mTensor((\u001b[92m1\u001b[39m, \u001b[92m5\u001b[39m), dtype\u001b[35;01m=\u001b[39;00m\u001b[33m\"\u001b[39m\u001b[33mfloat32\u001b[39m\u001b[33m\"\u001b[39m))\n",
            "            lv7 \u001b[35;01m=\u001b[39;00m R\u001b[35;01m.\u001b[39;00mcall_tir(cls\u001b[35;01m.\u001b[39;00mte_broadcast_to, (lv6,), out_sinfo\u001b[35;01m=\u001b[39;00mR\u001b[35;01m.\u001b[39;00mTensor((\u001b[92m1\u001b[39m, \u001b[92m5\u001b[39m), dtype\u001b[35;01m=\u001b[39;00m\u001b[33m\"\u001b[39m\u001b[33mfloat32\u001b[39m\u001b[33m\"\u001b[39m))\n",
            "            lv8 \u001b[35;01m=\u001b[39;00m R\u001b[35;01m.\u001b[39;00mcall_tir(cls\u001b[35;01m.\u001b[39;00mte_ewise_add, (lv5, lv7), out_sinfo\u001b[35;01m=\u001b[39;00mR\u001b[35;01m.\u001b[39;00mTensor((\u001b[92m1\u001b[39m, \u001b[92m5\u001b[39m), dtype\u001b[35;01m=\u001b[39;00m\u001b[33m\"\u001b[39m\u001b[33mfloat32\u001b[39m\u001b[33m\"\u001b[39m))\n",
            "            lv9 \u001b[35;01m=\u001b[39;00m R\u001b[35;01m.\u001b[39;00mcall_tir(cls\u001b[35;01m.\u001b[39;00mte_relu, (lv8,), out_sinfo\u001b[35;01m=\u001b[39;00mR\u001b[35;01m.\u001b[39;00mTensor((\u001b[92m1\u001b[39m, \u001b[92m5\u001b[39m), dtype\u001b[35;01m=\u001b[39;00m\u001b[33m\"\u001b[39m\u001b[33mfloat32\u001b[39m\u001b[33m\"\u001b[39m))\n",
            "            gv: R\u001b[35;01m.\u001b[39;00mTensor((\u001b[92m1\u001b[39m, \u001b[92m5\u001b[39m), dtype\u001b[35;01m=\u001b[39;00m\u001b[33m\"\u001b[39m\u001b[33mfloat32\u001b[39m\u001b[33m\"\u001b[39m) \u001b[35;01m=\u001b[39;00m lv9\n",
            "            R\u001b[35;01m.\u001b[39;00moutput(gv)\n",
            "        \u001b[32;01mreturn\u001b[39;00m lv9\n",
            "\n",
            "\u001b[90;03m# Metadata omitted. Use show_meta=True in script() method to show it.\u001b[39;00m\n",
            "\n",
            "[[0.         2.067654   0.746854   0.11360329 1.1193708 ]]\n",
            "[[0.         2.067654   0.746854   0.11360329 1.1193708 ]]\n"
          ]
        }
      ]
    },
    {
      "cell_type": "code",
      "source": [
        "!git add ."
      ],
      "metadata": {
        "id": "s-4iFc1-LhSE"
      },
      "execution_count": null,
      "outputs": []
    },
    {
      "cell_type": "code",
      "source": [
        "!git commit -m \"working\"\n",
        "!git push"
      ],
      "metadata": {
        "colab": {
          "base_uri": "https://localhost:8080/"
        },
        "id": "QsQA3-7rqTba",
        "outputId": "d99d783b-d609-4216-a3d4-5568bc021777"
      },
      "execution_count": null,
      "outputs": [
        {
          "output_type": "stream",
          "name": "stdout",
          "text": [
            "[main ec5133e] working\n",
            " 30 files changed, 101 insertions(+), 22 deletions(-)\n",
            " rewrite hw4/python/needle/ops/__pycache__/ops_mathematic.cpython-310.pyc (81%)\n",
            "fatal: could not read Username for 'https://github.com': No such device or address\n"
          ]
        }
      ]
    },
    {
      "cell_type": "code",
      "source": [
        "!git config --global user.email \"vbhasin999@gmail.com\"\n",
        "!git config --global user.name \"vbhasin999\"\n"
      ],
      "metadata": {
        "id": "ysBk4lYZqYB6"
      },
      "execution_count": null,
      "outputs": []
    },
    {
      "cell_type": "code",
      "source": [],
      "metadata": {
        "id": "_rtDC-DYqsvm"
      },
      "execution_count": null,
      "outputs": []
    }
  ]
}